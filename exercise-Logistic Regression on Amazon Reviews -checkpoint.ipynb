{
 "cells": [
  {
   "cell_type": "code",
   "execution_count": 225,
   "metadata": {},
   "outputs": [
    {
     "data": {
      "text/plain": [
       "positive    467\n",
       "negative     33\n",
       "Name: Score, dtype: int64"
      ]
     },
     "execution_count": 225,
     "metadata": {},
     "output_type": "execute_result"
    }
   ],
   "source": [
    "#database final.sqlite is created after cleaning the amazon food reviews data\n",
    "\n",
    "import warnings\n",
    "warnings.filterwarnings(\"ignore\")\n",
    "import numpy as np\n",
    "import pandas as pd\n",
    "import matplotlib.pyplot as plt\n",
    "from sklearn.cross_validation import train_test_split\n",
    "from sklearn.naive_bayes import BernoulliNB\n",
    "from sklearn.metrics import accuracy_score,f1_score\n",
    "from sklearn.cross_validation import cross_val_score\n",
    "from collections import Counter\n",
    "from sklearn.metrics import accuracy_score,make_scorer\n",
    "from sklearn.metrics import classification_report \n",
    "from sklearn import cross_validation\n",
    "import sqlite3\n",
    "from sklearn.decomposition import TruncatedSVD\n",
    "import seaborn as sns\n",
    "from sklearn.grid_search import GridSearchCV\n",
    "from sklearn.linear_model import LogisticRegression\n",
    "from sklearn.model_selection import RandomizedSearchCV\n",
    "from sklearn import preprocessing\n",
    "from sklearn.metrics import confusion_matrix\n",
    "from prettytable import PrettyTable\n",
    "from scipy import stats\n",
    "x = PrettyTable()\n",
    "\n",
    "con=sqlite3.connect(\"final.sqlite\")\n",
    "\n",
    "# time based sorting\n",
    "clean_reviews=pd.read_sql_query(\"\"\" Select * from Reviews Order By Time\"\"\" , con)\n",
    "clean_reviews=clean_reviews[:500]\n",
    "\n",
    "cleaned_text=clean_reviews['CleanedText'].values\n",
    "score=clean_reviews['Score']\n",
    "score.value_counts()\n"
   ]
  },
  {
   "cell_type": "markdown",
   "metadata": {},
   "source": [
    "This is an unbalanced dataset"
   ]
  },
  {
   "cell_type": "code",
   "execution_count": 209,
   "metadata": {},
   "outputs": [],
   "source": [
    "from prettytable import PrettyTable\n",
    "    \n",
    "x = PrettyTable()\n",
    "x.field_names = [\"Vectorization\", \"Model\", \"alpha\", \"f1 score\", \"Accuracy\"]"
   ]
  },
  {
   "cell_type": "markdown",
   "metadata": {},
   "source": [
    "This is an unblanced dataset"
   ]
  },
  {
   "cell_type": "markdown",
   "metadata": {},
   "source": [
    "#Featurization using Bag of Words and model using kNN for classification of review"
   ]
  },
  {
   "cell_type": "code",
   "execution_count": 210,
   "metadata": {
    "scrolled": false
   },
   "outputs": [],
   "source": [
    "#Featurization using BoW\n",
    "\n",
    "from sklearn.feature_extraction.text import CountVectorizer\n",
    "count_vect=CountVectorizer()#max_features=300)\n",
    "final_counts=count_vect.fit_transform(cleaned_text)\n",
    "\n",
    "svd = TruncatedSVD(n_components=3000, n_iter=7, random_state=42)\n",
    "s=svd.fit_transform(final_counts)\n",
    "#svd.explained_variance_ratio_\n",
    "#svd.explained_variance_\n",
    "#count_vect.get_feature_names()\n",
    "#np.shape(s)\n",
    "#final_counts=final_counts.toarray()\n"
   ]
  },
  {
   "cell_type": "code",
   "execution_count": 212,
   "metadata": {},
   "outputs": [],
   "source": [
    "svd = TruncatedSVD(n_components=3000, n_iter=7, random_state=42)\n",
    "s=svd.fit_transform(final_counts)\n",
    "no_of_features=np.array([100,200,300,500,1000,1500,2000,3000])\n",
    "variances=[]\n",
    "for i in no_of_features:\n",
    "    variances.append(np.sum(svd.explained_variance_ratio_[:i]))"
   ]
  },
  {
   "cell_type": "code",
   "execution_count": 213,
   "metadata": {},
   "outputs": [
    {
     "data": {
      "text/plain": [
       "Text(0.5,1,'no_of_features vs variances')"
      ]
     },
     "execution_count": 213,
     "metadata": {},
     "output_type": "execute_result"
    },
    {
     "data": {
      "image/png": "[encoded data removed]",
      "text/plain": [
       "<Figure size 432x288 with 1 Axes>"
      ]
     },
     "metadata": {
      "needs_background": "light"
     },
     "output_type": "display_data"
    }
   ],
   "source": [
    "plt.plot(no_of_features,variances)\n",
    "plt.xlabel(\"no_of_features\")\n",
    "plt.ylabel(\"variances\")\n",
    "plt.title(\"no_of_features vs variances\")"
   ]
  },
  {
   "cell_type": "markdown",
   "metadata": {},
   "source": [
    "The plot shows that 80% of variance is covered with 1000 features"
   ]
  },
  {
   "cell_type": "code",
   "execution_count": 215,
   "metadata": {},
   "outputs": [
    {
     "data": {
      "text/plain": [
       "0.954864274357483"
      ]
     },
     "execution_count": 215,
     "metadata": {},
     "output_type": "execute_result"
    }
   ],
   "source": [
    "#variance with 300 features\n",
    "np.sum(svd.explained_variance_ratio_[:300])"
   ]
  },
  {
   "cell_type": "markdown",
   "metadata": {},
   "source": [
    "This is good amount of information : not much data is lost\n",
    "Therefore taking 300 feAtures for this exercise"
   ]
  },
  {
   "cell_type": "code",
   "execution_count": 216,
   "metadata": {},
   "outputs": [],
   "source": [
    "svd = TruncatedSVD(n_components=300, n_iter=7, random_state=42)\n",
    "final_counts=svd.fit_transform(final_counts)"
   ]
  },
  {
   "cell_type": "code",
   "execution_count": 221,
   "metadata": {},
   "outputs": [],
   "source": [
    "from statsmodels.stats.outliers_influence import variance_inflation_factor\n",
    "vif = [variance_inflation_factor(final_counts, i) for i in range(final_counts.shape[1])]\n",
    "sorted_vif=sorted(vif)\n",
    "no_duplicates=set(sorted_vif)\n",
    "for i in no_duplicates:\n",
    "    if i >5 :\n",
    "         np.delete(final_counts,vif.index(i),axis=1)"
   ]
  },
  {
   "cell_type": "code",
   "execution_count": 222,
   "metadata": {},
   "outputs": [],
   "source": [
    "final_counts=preprocessing.scale(final_counts)"
   ]
  },
  {
   "cell_type": "code",
   "execution_count": 227,
   "metadata": {},
   "outputs": [],
   "source": [
    "#Logistic Regression with 3 fold CV with GridSearch and Randomized Search\n",
    "x_tr,x_test,y_tr,y_test = cross_validation.train_test_split(final_counts,score,test_size=0.3,random_state=0)\n",
    "tuned_parameters = [{'C': [10**-4, 10**-2, 10**0, 10**2, 10**4]}]\n",
    "custom_scorer=make_scorer(f1_score,pos_label=\"positive\")\n",
    "\n"
   ]
  },
  {
   "cell_type": "code",
   "execution_count": 228,
   "metadata": {},
   "outputs": [
    {
     "name": "stdout",
     "output_type": "stream",
     "text": [
      "LogisticRegression(C=1, class_weight='balanced', dual=False,\n",
      "          fit_intercept=True, intercept_scaling=1, max_iter=100,\n",
      "          multi_class='ovr', n_jobs=1, penalty='l2', random_state=None,\n",
      "          solver='liblinear', tol=0.0001, verbose=0, warm_start=False)\n",
      "0.7966804979253111\n"
     ]
    }
   ],
   "source": [
    "#Using GridSearchCV and L2 regularization\n",
    "model = GridSearchCV(LogisticRegression(class_weight='balanced'), tuned_parameters, scoring = custom_scorer, cv=3)\n",
    "model.fit(x_tr, y_tr)\n",
    "\n",
    "print(model.best_estimator_)\n",
    "print(model.score(x_test, y_test))\n",
    "\n"
   ]
  },
  {
   "cell_type": "code",
   "execution_count": 229,
   "metadata": {},
   "outputs": [
    {
     "name": "stdout",
     "output_type": "stream",
     "text": [
      "LogisticRegression(C=100, class_weight='balanced', dual=False,\n",
      "          fit_intercept=True, intercept_scaling=1, max_iter=100,\n",
      "          multi_class='ovr', n_jobs=1, penalty='l1', random_state=None,\n",
      "          solver='liblinear', tol=0.0001, verbose=0, warm_start=False)\n",
      "0.8764044943820224\n"
     ]
    }
   ],
   "source": [
    "#Using GridSearchCV and L1 regularization\n",
    "model = GridSearchCV(LogisticRegression(penalty='l1',class_weight='balanced'), tuned_parameters, scoring = custom_scorer, cv=3)\n",
    "model.fit(x_tr, y_tr)\n",
    "\n",
    "print(model.best_estimator_)\n",
    "print(model.score(x_test, y_test))\n"
   ]
  },
  {
   "cell_type": "code",
   "execution_count": 230,
   "metadata": {},
   "outputs": [
    {
     "name": "stdout",
     "output_type": "stream",
     "text": [
      "LogisticRegression(C=2.5285817742217045, class_weight='balanced', dual=False,\n",
      "          fit_intercept=True, intercept_scaling=1, max_iter=100,\n",
      "          multi_class='ovr', n_jobs=1, penalty='l2', random_state=None,\n",
      "          solver='liblinear', tol=0.0001, verbose=0, warm_start=False)\n",
      "0.8065843621399177\n"
     ]
    }
   ],
   "source": [
    "#Using RandomizedSearchCV and L2 regularization\n",
    "tuned_parameters = {\"C\": stats.uniform(2, 10)}\n",
    "custom_scorer=make_scorer(f1_score,pos_label=\"positive\")\n",
    "\n",
    "model = RandomizedSearchCV(LogisticRegression(class_weight='balanced'), tuned_parameters, scoring = custom_scorer, cv=3)\n",
    "model.fit(x_tr, y_tr)\n",
    "\n",
    "print(model.best_estimator_)\n",
    "print(model.score(x_test, y_test))\n",
    "\n"
   ]
  },
  {
   "cell_type": "code",
   "execution_count": 232,
   "metadata": {},
   "outputs": [
    {
     "name": "stdout",
     "output_type": "stream",
     "text": [
      "LogisticRegression(C=4.776182361388425, class_weight='balanced', dual=False,\n",
      "          fit_intercept=True, intercept_scaling=1, max_iter=100,\n",
      "          multi_class='ovr', n_jobs=1, penalty='l1', random_state=None,\n",
      "          solver='liblinear', tol=0.0001, verbose=0, warm_start=False)\n",
      "0.8929889298892988\n"
     ]
    }
   ],
   "source": [
    "#Using RandomizedSearchCV and L1 regularization\n",
    "model = RandomizedSearchCV(LogisticRegression(penalty='l1',class_weight='balanced'), tuned_parameters,n_jobs=1, scoring = custom_scorer, cv=3)\n",
    "model.fit(x_tr, y_tr)\n",
    "\n",
    "print(model.best_estimator_)\n",
    "print(model.score(x_test, y_test))\n",
    "\n"
   ]
  },
  {
   "cell_type": "code",
   "execution_count": 149,
   "metadata": {},
   "outputs": [
    {
     "name": "stdout",
     "output_type": "stream",
     "text": [
      "102\n",
      "0.88\n"
     ]
    }
   ],
   "source": [
    "\n",
    "clf = LogisticRegression(C=1, penalty='l1');\n",
    "clf.fit(x_tr, y_tr);\n",
    "w = clf.coef_\n",
    "print(np.count_nonzero(w))\n",
    "\n",
    "print(clf.score(x_test, y_test))"
   ]
  },
  {
   "cell_type": "code",
   "execution_count": 150,
   "metadata": {},
   "outputs": [
    {
     "name": "stdout",
     "output_type": "stream",
     "text": [
      "88\n",
      "0.9133333333333333\n"
     ]
    }
   ],
   "source": [
    "\n",
    "clf = LogisticRegression(C=0.5, penalty='l1');\n",
    "clf.fit(x_tr, y_tr);\n",
    "w = clf.coef_\n",
    "print(np.count_nonzero(w))\n",
    "print(clf.score(x_test, y_test))"
   ]
  },
  {
   "cell_type": "code",
   "execution_count": 151,
   "metadata": {},
   "outputs": [
    {
     "name": "stdout",
     "output_type": "stream",
     "text": [
      "9\n",
      "0.92\n"
     ]
    }
   ],
   "source": [
    "\n",
    "clf = LogisticRegression(C=0.1, penalty='l1');\n",
    "clf.fit(x_tr, y_tr);\n",
    "w = clf.coef_\n",
    "print(np.count_nonzero(w))\n",
    "print(clf.score(x_test, y_test))"
   ]
  },
  {
   "cell_type": "code",
   "execution_count": 152,
   "metadata": {},
   "outputs": [
    {
     "name": "stdout",
     "output_type": "stream",
     "text": [
      "0\n",
      "0.92\n"
     ]
    }
   ],
   "source": [
    "\n",
    "clf = LogisticRegression(C=0.01, penalty='l1');\n",
    "clf.fit(x_tr, y_tr);\n",
    "w = clf.coef_\n",
    "print(np.count_nonzero(w))\n",
    "print(clf.score(x_test, y_test))"
   ]
  },
  {
   "cell_type": "code",
   "execution_count": 233,
   "metadata": {},
   "outputs": [],
   "source": [
    "#Tfidf\n",
    "from sklearn.feature_extraction.text import TfidfTransformer\n",
    "from sklearn.feature_extraction.text import TfidfVectorizer\n",
    "tf_idf_vect = TfidfVectorizer()\n",
    "final_counts= tf_idf_vect.fit_transform(clean_reviews['CleanedText'].values)\n",
    "final_counts=final_counts.toarray()"
   ]
  },
  {
   "cell_type": "code",
   "execution_count": 234,
   "metadata": {},
   "outputs": [
    {
     "data": {
      "text/plain": [
       "0.8215564283633905"
      ]
     },
     "execution_count": 234,
     "metadata": {},
     "output_type": "execute_result"
    },
    {
     "data": {
      "image/png": "[encoded data removed]",
      "text/plain": [
       "<Figure size 432x288 with 1 Axes>"
      ]
     },
     "metadata": {
      "needs_background": "light"
     },
     "output_type": "display_data"
    }
   ],
   "source": [
    "svd = TruncatedSVD(n_components=3000, n_iter=7, random_state=42)\n",
    "s=svd.fit_transform(final_counts)\n",
    "no_of_features=np.array([100,200,300,500,1000,1500,2000,3000])\n",
    "variances=[]\n",
    "for i in no_of_features:\n",
    "    variances.append(np.sum(svd.explained_variance_ratio_[:i])) \n",
    "\n",
    "plt.plot(no_of_features,variances)\n",
    "plt.xlabel(\"no_of_features\")\n",
    "plt.ylabel(\"variances\")\n",
    "plt.title(\"no_of_features vs variances\")\n",
    "\n",
    "#variance with 300 features\n",
    "np.sum(svd.explained_variance_ratio_[:300])"
   ]
  },
  {
   "cell_type": "markdown",
   "metadata": {},
   "source": [
    "300 features give us 39% of information"
   ]
  },
  {
   "cell_type": "code",
   "execution_count": 235,
   "metadata": {},
   "outputs": [],
   "source": [
    "svd = TruncatedSVD(n_components=300, n_iter=7, random_state=42)\n",
    "final_counts=svd.fit_transform(final_counts)"
   ]
  },
  {
   "cell_type": "code",
   "execution_count": 236,
   "metadata": {},
   "outputs": [],
   "source": [
    "from statsmodels.stats.outliers_influence import variance_inflation_factor\n",
    "vif = [variance_inflation_factor(final_counts, i) for i in range(final_counts.shape[1])]\n",
    "sorted_vif=sorted(vif)\n",
    "no_duplicates=set(sorted_vif)\n",
    "for i in no_duplicates:\n",
    "    if i >5 :\n",
    "         np.delete(final_counts,vif.index(i),axis=1)"
   ]
  },
  {
   "cell_type": "code",
   "execution_count": 237,
   "metadata": {},
   "outputs": [],
   "source": [
    "final_counts=preprocessing.scale(final_counts)"
   ]
  },
  {
   "cell_type": "code",
   "execution_count": 238,
   "metadata": {},
   "outputs": [],
   "source": [
    "#Logistic Regression with 3 fold CV with GridSearch and Randomized Search\n",
    "x_tr,x_test,y_tr,y_test = cross_validation.train_test_split(final_counts,score,test_size=0.3,random_state=0)\n",
    "tuned_parameters = [{'C': [10**-4, 10**-2, 10**0, 10**2, 10**4]}]\n",
    "custom_scorer=make_scorer(f1_score,pos_label=\"positive\")\n"
   ]
  },
  {
   "cell_type": "code",
   "execution_count": 239,
   "metadata": {},
   "outputs": [
    {
     "name": "stdout",
     "output_type": "stream",
     "text": [
      "LogisticRegression(C=100, class_weight='balanced', dual=False,\n",
      "          fit_intercept=True, intercept_scaling=1, max_iter=100,\n",
      "          multi_class='ovr', n_jobs=1, penalty='l2', random_state=None,\n",
      "          solver='liblinear', tol=0.0001, verbose=0, warm_start=False)\n",
      "0.8582375478927202\n"
     ]
    }
   ],
   "source": [
    "#Using GridSearchCV and L2 regularization\n",
    "model = GridSearchCV(LogisticRegression(class_weight='balanced'), tuned_parameters, scoring = custom_scorer, cv=3)\n",
    "model.fit(x_tr, y_tr)\n",
    "\n",
    "print(model.best_estimator_)\n",
    "print(model.score(x_test, y_test))\n",
    "\n"
   ]
  },
  {
   "cell_type": "code",
   "execution_count": 240,
   "metadata": {},
   "outputs": [
    {
     "name": "stdout",
     "output_type": "stream",
     "text": [
      "LogisticRegression(C=100, class_weight='balanced', dual=False,\n",
      "          fit_intercept=True, intercept_scaling=1, max_iter=100,\n",
      "          multi_class='ovr', n_jobs=1, penalty='l1', random_state=None,\n",
      "          solver='liblinear', tol=0.0001, verbose=0, warm_start=False)\n",
      "0.9357142857142856\n"
     ]
    }
   ],
   "source": [
    "#Using GridSearchCV and L1 regularization\n",
    "model = GridSearchCV(LogisticRegression(penalty='l1',class_weight='balanced'), tuned_parameters, scoring = custom_scorer, cv=3)\n",
    "model.fit(x_tr, y_tr)\n",
    "\n",
    "print(model.best_estimator_)\n",
    "print(model.score(x_test, y_test))\n"
   ]
  },
  {
   "cell_type": "code",
   "execution_count": 241,
   "metadata": {},
   "outputs": [
    {
     "name": "stdout",
     "output_type": "stream",
     "text": [
      "LogisticRegression(C=7.964244972754215, class_weight='balanced', dual=False,\n",
      "          fit_intercept=True, intercept_scaling=1, max_iter=100,\n",
      "          multi_class='ovr', n_jobs=1, penalty='l2', random_state=None,\n",
      "          solver='liblinear', tol=0.0001, verbose=0, warm_start=False)\n",
      "0.8538461538461539\n"
     ]
    }
   ],
   "source": [
    "#Using RandomizedSearchCV and L2 regularization\n",
    "tuned_parameters = {\"C\": stats.uniform(2, 10)}\n",
    "custom_scorer=make_scorer(f1_score,pos_label=\"positive\")\n",
    "\n",
    "model = RandomizedSearchCV(LogisticRegression(class_weight='balanced'), tuned_parameters, scoring = custom_scorer, cv=3)\n",
    "model.fit(x_tr, y_tr)\n",
    "\n",
    "print(model.best_estimator_)\n",
    "print(model.score(x_test, y_test))\n",
    "\n"
   ]
  },
  {
   "cell_type": "code",
   "execution_count": 242,
   "metadata": {},
   "outputs": [
    {
     "name": "stdout",
     "output_type": "stream",
     "text": [
      "LogisticRegression(C=7.617670547454957, class_weight='balanced', dual=False,\n",
      "          fit_intercept=True, intercept_scaling=1, max_iter=100,\n",
      "          multi_class='ovr', n_jobs=1, penalty='l1', random_state=None,\n",
      "          solver='liblinear', tol=0.0001, verbose=0, warm_start=False)\n",
      "0.9432624113475179\n"
     ]
    }
   ],
   "source": [
    "#Using RandomizedSearchCV and L1 regularization\n",
    "model = RandomizedSearchCV(LogisticRegression(penalty='l1',class_weight='balanced'), tuned_parameters,n_jobs=1, scoring = custom_scorer, cv=3)\n",
    "model.fit(x_tr, y_tr)\n",
    "\n",
    "print(model.best_estimator_)\n",
    "print(model.score(x_test, y_test))\n",
    "\n"
   ]
  },
  {
   "cell_type": "code",
   "execution_count": 243,
   "metadata": {},
   "outputs": [
    {
     "name": "stdout",
     "output_type": "stream",
     "text": [
      "101\n",
      "0.9133333333333333\n"
     ]
    }
   ],
   "source": [
    "\n",
    "clf = LogisticRegression(C=1, penalty='l1');\n",
    "clf.fit(x_tr, y_tr);\n",
    "w = clf.coef_\n",
    "print(np.count_nonzero(w))\n",
    "\n",
    "print(clf.score(x_test, y_test))"
   ]
  },
  {
   "cell_type": "code",
   "execution_count": 244,
   "metadata": {},
   "outputs": [
    {
     "name": "stdout",
     "output_type": "stream",
     "text": [
      "84\n",
      "0.9133333333333333\n"
     ]
    }
   ],
   "source": [
    "\n",
    "clf = LogisticRegression(C=0.5, penalty='l1');\n",
    "clf.fit(x_tr, y_tr);\n",
    "w = clf.coef_\n",
    "print(np.count_nonzero(w))\n",
    "print(clf.score(x_test, y_test))"
   ]
  },
  {
   "cell_type": "code",
   "execution_count": 245,
   "metadata": {},
   "outputs": [
    {
     "name": "stdout",
     "output_type": "stream",
     "text": [
      "9\n",
      "0.92\n"
     ]
    }
   ],
   "source": [
    "\n",
    "clf = LogisticRegression(C=0.1, penalty='l1');\n",
    "clf.fit(x_tr, y_tr);\n",
    "w = clf.coef_\n",
    "print(np.count_nonzero(w))\n",
    "print(clf.score(x_test, y_test))"
   ]
  },
  {
   "cell_type": "code",
   "execution_count": 246,
   "metadata": {},
   "outputs": [
    {
     "name": "stdout",
     "output_type": "stream",
     "text": [
      "0\n",
      "0.92\n"
     ]
    }
   ],
   "source": [
    "\n",
    "clf = LogisticRegression(C=0.01, penalty='l1');\n",
    "clf.fit(x_tr, y_tr);\n",
    "w = clf.coef_\n",
    "print(np.count_nonzero(w))\n",
    "print(clf.score(x_test, y_test))"
   ]
  },
  {
   "cell_type": "code",
   "execution_count": 247,
   "metadata": {},
   "outputs": [],
   "source": [
    "# Train your own Word2Vec model using your own text corpus\n",
    "i=0\n",
    "list_of_sent=[]\n",
    "for sent in clean_reviews['CleanedText'].values:\n",
    "    list_of_sent.append(sent.split())\n"
   ]
  },
  {
   "cell_type": "code",
   "execution_count": 250,
   "metadata": {},
   "outputs": [],
   "source": [
    "import re\n",
    "import string\n",
    "from nltk.corpus import stopwords\n",
    "from nltk.stem import PorterStemmer\n",
    "from nltk.stem.wordnet import WordNetLemmatizer\n",
    "\n",
    "from gensim.models import Word2Vec\n",
    "from gensim.models import KeyedVectors\n",
    "import pickle\n",
    "\n",
    "w2v_model=Word2Vec(list_of_sent,min_count=5,size=50, workers=4)\n",
    "w2v_words = list(w2v_model.wv.vocab)\n",
    "sent_vectors = [];\n",
    "for sent in list_of_sent:\n",
    "    sent_vec = np.zeros(50) \n",
    "    cnt_words =0;\n",
    "    for word in sent:\n",
    "        if word in w2v_words:\n",
    "            vec = w2v_model.wv[word]\n",
    "            sent_vec += vec\n",
    "            cnt_words += 1\n",
    "    if cnt_words != 0:\n",
    "        sent_vec /= cnt_words\n",
    "    sent_vectors.append(sent_vec)\n",
    "\n",
    "final_counts=sent_vectors"
   ]
  },
  {
   "cell_type": "code",
   "execution_count": 253,
   "metadata": {},
   "outputs": [],
   "source": [
    "final_counts=preprocessing.scale(final_counts)"
   ]
  },
  {
   "cell_type": "code",
   "execution_count": 254,
   "metadata": {},
   "outputs": [
    {
     "name": "stdout",
     "output_type": "stream",
     "text": [
      "LogisticRegression(C=10000, class_weight='balanced', dual=False,\n",
      "          fit_intercept=True, intercept_scaling=1, max_iter=100,\n",
      "          multi_class='ovr', n_jobs=1, penalty='l2', random_state=None,\n",
      "          solver='liblinear', tol=0.0001, verbose=0, warm_start=False)\n",
      "0.9029850746268656\n",
      "LogisticRegression(C=10000, class_weight='balanced', dual=False,\n",
      "          fit_intercept=True, intercept_scaling=1, max_iter=100,\n",
      "          multi_class='ovr', n_jobs=1, penalty='l2', random_state=None,\n",
      "          solver='liblinear', tol=0.0001, verbose=0, warm_start=False)\n",
      "0.9029850746268656\n",
      "LogisticRegression(C=10000, class_weight='balanced', dual=False,\n",
      "          fit_intercept=True, intercept_scaling=1, max_iter=100,\n",
      "          multi_class='ovr', n_jobs=1, penalty='l1', random_state=None,\n",
      "          solver='liblinear', tol=0.0001, verbose=0, warm_start=False)\n",
      "0.9111111111111111\n",
      "LogisticRegression(C=10.910545051226107, class_weight='balanced', dual=False,\n",
      "          fit_intercept=True, intercept_scaling=1, max_iter=100,\n",
      "          multi_class='ovr', n_jobs=1, penalty='l2', random_state=None,\n",
      "          solver='liblinear', tol=0.0001, verbose=0, warm_start=False)\n",
      "0.8769230769230769\n",
      "LogisticRegression(C=10.438788092026705, class_weight='balanced', dual=False,\n",
      "          fit_intercept=True, intercept_scaling=1, max_iter=100,\n",
      "          multi_class='ovr', n_jobs=1, penalty='l2', random_state=None,\n",
      "          solver='liblinear', tol=0.0001, verbose=0, warm_start=False)\n",
      "0.8769230769230769\n",
      "LogisticRegression(C=7.87540316480085, class_weight='balanced', dual=False,\n",
      "          fit_intercept=True, intercept_scaling=1, max_iter=100,\n",
      "          multi_class='ovr', n_jobs=1, penalty='l1', random_state=None,\n",
      "          solver='liblinear', tol=0.0001, verbose=0, warm_start=False)\n",
      "0.8830188679245284\n",
      "LogisticRegression(C=11.998760260087721, class_weight='balanced', dual=False,\n",
      "          fit_intercept=True, intercept_scaling=1, max_iter=100,\n",
      "          multi_class='ovr', n_jobs=1, penalty='l1', random_state=None,\n",
      "          solver='liblinear', tol=0.0001, verbose=0, warm_start=False)\n",
      "0.8830188679245284\n",
      "4\n",
      "0.92\n",
      "4\n",
      "0.92\n",
      "2\n",
      "0.92\n",
      "2\n",
      "0.92\n",
      "0\n",
      "0.92\n",
      "0\n",
      "0.92\n",
      "0\n",
      "0.92\n",
      "0\n",
      "0.92\n"
     ]
    }
   ],
   "source": [
    "\n",
    "#Logistic Regression with 3 fold CV with GridSearch and Randomized Search\n",
    "x_tr,x_test,y_tr,y_test = cross_validation.train_test_split(final_counts,score,test_size=0.3,random_state=0)\n",
    "tuned_parameters = [{'C': [10**-4, 10**-2, 10**0, 10**2, 10**4]}]\n",
    "custom_scorer=make_scorer(f1_score,pos_label=\"positive\")\n",
    "\n",
    "\n",
    "#Logistic Regression with 3 fold CV with GridSearch and Randomized Search\n",
    "x_tr,x_test,y_tr,y_test = cross_validation.train_test_split(final_counts,score,test_size=0.3,random_state=0)\n",
    "tuned_parameters = [{'C': [10**-4, 10**-2, 10**0, 10**2, 10**4]}]\n",
    "custom_scorer=make_scorer(f1_score,pos_label=\"positive\")\n",
    "\n",
    "\n",
    "#Using GridSearchCV and L2 regularization\n",
    "model = GridSearchCV(LogisticRegression(class_weight='balanced'), tuned_parameters, scoring = custom_scorer, cv=3)\n",
    "model.fit(x_tr, y_tr)\n",
    "\n",
    "print(model.best_estimator_)\n",
    "print(model.score(x_test, y_test))\n",
    "\n",
    "\n",
    "#Using GridSearchCV and L2 regularization\n",
    "model = GridSearchCV(LogisticRegression(class_weight='balanced'), tuned_parameters, scoring = custom_scorer, cv=3)\n",
    "model.fit(x_tr, y_tr)\n",
    "\n",
    "print(model.best_estimator_)\n",
    "print(model.score(x_test, y_test))\n",
    "\n",
    "\n",
    "#Using GridSearchCV and L1 regularization\n",
    "model = GridSearchCV(LogisticRegression(penalty='l1',class_weight='balanced'), tuned_parameters, scoring = custom_scorer, cv=3)\n",
    "model.fit(x_tr, y_tr)\n",
    "\n",
    "print(model.best_estimator_)\n",
    "print(model.score(x_test, y_test))\n",
    "\n",
    "\n",
    "\n",
    "#Using RandomizedSearchCV and L2 regularization\n",
    "tuned_parameters = {\"C\": stats.uniform(2, 10)}\n",
    "custom_scorer=make_scorer(f1_score,pos_label=\"positive\")\n",
    "\n",
    "model = RandomizedSearchCV(LogisticRegression(class_weight='balanced'), tuned_parameters, scoring = custom_scorer, cv=3)\n",
    "model.fit(x_tr, y_tr)\n",
    "\n",
    "print(model.best_estimator_)\n",
    "print(model.score(x_test, y_test))\n",
    "\n",
    "\n",
    "#Using RandomizedSearchCV and L2 regularization\n",
    "tuned_parameters = {\"C\": stats.uniform(2, 10)}\n",
    "custom_scorer=make_scorer(f1_score,pos_label=\"positive\")\n",
    "\n",
    "model = RandomizedSearchCV(LogisticRegression(class_weight='balanced'), tuned_parameters, scoring = custom_scorer, cv=3)\n",
    "model.fit(x_tr, y_tr)\n",
    "\n",
    "print(model.best_estimator_)\n",
    "print(model.score(x_test, y_test))\n",
    "\n",
    "\n",
    "\n",
    "\n",
    "#Using RandomizedSearchCV and L1 regularization\n",
    "model = RandomizedSearchCV(LogisticRegression(penalty='l1',class_weight='balanced'), tuned_parameters,n_jobs=1, scoring = custom_scorer, cv=3)\n",
    "model.fit(x_tr, y_tr)\n",
    "\n",
    "print(model.best_estimator_)\n",
    "print(model.score(x_test, y_test))\n",
    "\n",
    "\n",
    "#Using RandomizedSearchCV and L1 regularization\n",
    "model = RandomizedSearchCV(LogisticRegression(penalty='l1',class_weight='balanced'), tuned_parameters,n_jobs=1, scoring = custom_scorer, cv=3)\n",
    "model.fit(x_tr, y_tr)\n",
    "\n",
    "print(model.best_estimator_)\n",
    "print(model.score(x_test, y_test))\n",
    "\n",
    "\n",
    "\n",
    "\n",
    "\n",
    "clf = LogisticRegression(C=1, penalty='l1');\n",
    "clf.fit(x_tr, y_tr);\n",
    "w = clf.coef_\n",
    "print(np.count_nonzero(w))\n",
    "\n",
    "print(clf.score(x_test, y_test))\n",
    "\n",
    "clf = LogisticRegression(C=1, penalty='l1');\n",
    "clf.fit(x_tr, y_tr);\n",
    "w = clf.coef_\n",
    "print(np.count_nonzero(w))\n",
    "\n",
    "print(clf.score(x_test, y_test))\n",
    "\n",
    "\n",
    "\n",
    "clf = LogisticRegression(C=0.5, penalty='l1');\n",
    "clf.fit(x_tr, y_tr);\n",
    "w = clf.coef_\n",
    "print(np.count_nonzero(w))\n",
    "print(clf.score(x_test, y_test))\n",
    "\n",
    "clf = LogisticRegression(C=0.5, penalty='l1');\n",
    "clf.fit(x_tr, y_tr);\n",
    "w = clf.coef_\n",
    "print(np.count_nonzero(w))\n",
    "print(clf.score(x_test, y_test))\n",
    "\n",
    "\n",
    "\n",
    "clf = LogisticRegression(C=0.1, penalty='l1');\n",
    "clf.fit(x_tr, y_tr);\n",
    "w = clf.coef_\n",
    "print(np.count_nonzero(w))\n",
    "print(clf.score(x_test, y_test))\n",
    "\n",
    "clf = LogisticRegression(C=0.1, penalty='l1');\n",
    "clf.fit(x_tr, y_tr);\n",
    "w = clf.coef_\n",
    "print(np.count_nonzero(w))\n",
    "print(clf.score(x_test, y_test))\n",
    "\n",
    "\n",
    "\n",
    "clf = LogisticRegression(C=0.01, penalty='l1');\n",
    "clf.fit(x_tr, y_tr);\n",
    "w = clf.coef_\n",
    "print(np.count_nonzero(w))\n",
    "print(clf.score(x_test, y_test))\n",
    "\n",
    "clf = LogisticRegression(C=0.01, penalty='l1');\n",
    "clf.fit(x_tr, y_tr);\n",
    "w = clf.coef_\n",
    "print(np.count_nonzero(w))\n",
    "print(clf.score(x_test, y_test))\n"
   ]
  },
  {
   "cell_type": "code",
   "execution_count": 255,
   "metadata": {},
   "outputs": [],
   "source": [
    "# Train your own Word2Vec model using your own text corpus\n",
    "i=0\n",
    "list_of_sent=[]\n",
    "for sent in clean_reviews['CleanedText'].values:\n",
    "    list_of_sent.append(sent.split())"
   ]
  },
  {
   "cell_type": "code",
   "execution_count": 256,
   "metadata": {},
   "outputs": [],
   "source": [
    "# TF-IDF weighted Word2Vec\n",
    "tfidf_feat = tf_idf_vect.get_feature_names() \n",
    "final_tf_idf = tf_idf_vect.fit_transform(clean_reviews['CleanedText'].values)\n",
    "tfidf_sent_vectors = []; \n",
    "row=0;\n",
    "for sent in list_of_sent:\n",
    "    sent_vec = np.zeros(50)\n",
    "    weight_sum =0; \n",
    "    for word in sent: \n",
    "        if word in w2v_words:\n",
    "            vec = w2v_model.wv[word]\n",
    "            tf_idf =final_tf_idf[row, tfidf_feat.index(word)]\n",
    "            sent_vec += (vec * tf_idf)\n",
    "            weight_sum += tf_idf\n",
    "    if weight_sum != 0:\n",
    "        sent_vec /= weight_sum\n",
    "    tfidf_sent_vectors.append(sent_vec)\n",
    "    row += 1\n",
    "\n",
    "final_counts=tfidf_sent_vectors"
   ]
  },
  {
   "cell_type": "code",
   "execution_count": 257,
   "metadata": {},
   "outputs": [
    {
     "name": "stdout",
     "output_type": "stream",
     "text": [
      "LogisticRegression(C=10000, class_weight='balanced', dual=False,\n",
      "          fit_intercept=True, intercept_scaling=1, max_iter=100,\n",
      "          multi_class='ovr', n_jobs=1, penalty='l2', random_state=None,\n",
      "          solver='liblinear', tol=0.0001, verbose=0, warm_start=False)\n",
      "0.8560311284046693\n",
      "LogisticRegression(C=10000, class_weight='balanced', dual=False,\n",
      "          fit_intercept=True, intercept_scaling=1, max_iter=100,\n",
      "          multi_class='ovr', n_jobs=1, penalty='l2', random_state=None,\n",
      "          solver='liblinear', tol=0.0001, verbose=0, warm_start=False)\n",
      "0.8560311284046693\n",
      "LogisticRegression(C=10000, class_weight='balanced', dual=False,\n",
      "          fit_intercept=True, intercept_scaling=1, max_iter=100,\n",
      "          multi_class='ovr', n_jobs=1, penalty='l1', random_state=None,\n",
      "          solver='liblinear', tol=0.0001, verbose=0, warm_start=False)\n",
      "0.8538461538461539\n",
      "LogisticRegression(C=8.331581639890409, class_weight='balanced', dual=False,\n",
      "          fit_intercept=True, intercept_scaling=1, max_iter=100,\n",
      "          multi_class='ovr', n_jobs=1, penalty='l2', random_state=None,\n",
      "          solver='liblinear', tol=0.0001, verbose=0, warm_start=False)\n",
      "0.6905829596412555\n",
      "LogisticRegression(C=10.084084886439623, class_weight='balanced', dual=False,\n",
      "          fit_intercept=True, intercept_scaling=1, max_iter=100,\n",
      "          multi_class='ovr', n_jobs=1, penalty='l2', random_state=None,\n",
      "          solver='liblinear', tol=0.0001, verbose=0, warm_start=False)\n",
      "0.6964285714285715\n",
      "LogisticRegression(C=11.69534519309684, class_weight='balanced', dual=False,\n",
      "          fit_intercept=True, intercept_scaling=1, max_iter=100,\n",
      "          multi_class='ovr', n_jobs=1, penalty='l1', random_state=None,\n",
      "          solver='liblinear', tol=0.0001, verbose=0, warm_start=False)\n",
      "0.7916666666666666\n",
      "LogisticRegression(C=11.419649146457704, class_weight='balanced', dual=False,\n",
      "          fit_intercept=True, intercept_scaling=1, max_iter=100,\n",
      "          multi_class='ovr', n_jobs=1, penalty='l1', random_state=None,\n",
      "          solver='liblinear', tol=0.0001, verbose=0, warm_start=False)\n",
      "0.7659574468085106\n",
      "0\n",
      "0.92\n",
      "0\n",
      "0.92\n",
      "0\n",
      "0.92\n",
      "0\n",
      "0.92\n",
      "0\n",
      "0.92\n",
      "0\n",
      "0.92\n",
      "0\n",
      "0.92\n",
      "0\n",
      "0.92\n"
     ]
    }
   ],
   "source": [
    "\n",
    "#Logistic Regression with 3 fold CV with GridSearch and Randomized Search\n",
    "x_tr,x_test,y_tr,y_test = cross_validation.train_test_split(final_counts,score,test_size=0.3,random_state=0)\n",
    "tuned_parameters = [{'C': [10**-4, 10**-2, 10**0, 10**2, 10**4]}]\n",
    "custom_scorer=make_scorer(f1_score,pos_label=\"positive\")\n",
    "\n",
    "\n",
    "#Logistic Regression with 3 fold CV with GridSearch and Randomized Search\n",
    "x_tr,x_test,y_tr,y_test = cross_validation.train_test_split(final_counts,score,test_size=0.3,random_state=0)\n",
    "tuned_parameters = [{'C': [10**-4, 10**-2, 10**0, 10**2, 10**4]}]\n",
    "custom_scorer=make_scorer(f1_score,pos_label=\"positive\")\n",
    "\n",
    "\n",
    "#Using GridSearchCV and L2 regularization\n",
    "model = GridSearchCV(LogisticRegression(class_weight='balanced'), tuned_parameters, scoring = custom_scorer, cv=3)\n",
    "model.fit(x_tr, y_tr)\n",
    "\n",
    "print(model.best_estimator_)\n",
    "print(model.score(x_test, y_test))\n",
    "\n",
    "\n",
    "#Using GridSearchCV and L2 regularization\n",
    "model = GridSearchCV(LogisticRegression(class_weight='balanced'), tuned_parameters, scoring = custom_scorer, cv=3)\n",
    "model.fit(x_tr, y_tr)\n",
    "\n",
    "print(model.best_estimator_)\n",
    "print(model.score(x_test, y_test))\n",
    "\n",
    "\n",
    "#Using GridSearchCV and L1 regularization\n",
    "model = GridSearchCV(LogisticRegression(penalty='l1',class_weight='balanced'), tuned_parameters, scoring = custom_scorer, cv=3)\n",
    "model.fit(x_tr, y_tr)\n",
    "\n",
    "print(model.best_estimator_)\n",
    "print(model.score(x_test, y_test))\n",
    "\n",
    "\n",
    "\n",
    "#Using RandomizedSearchCV and L2 regularization\n",
    "tuned_parameters = {\"C\": stats.uniform(2, 10)}\n",
    "custom_scorer=make_scorer(f1_score,pos_label=\"positive\")\n",
    "\n",
    "model = RandomizedSearchCV(LogisticRegression(class_weight='balanced'), tuned_parameters, scoring = custom_scorer, cv=3)\n",
    "model.fit(x_tr, y_tr)\n",
    "\n",
    "print(model.best_estimator_)\n",
    "print(model.score(x_test, y_test))\n",
    "\n",
    "\n",
    "#Using RandomizedSearchCV and L2 regularization\n",
    "tuned_parameters = {\"C\": stats.uniform(2, 10)}\n",
    "custom_scorer=make_scorer(f1_score,pos_label=\"positive\")\n",
    "\n",
    "model = RandomizedSearchCV(LogisticRegression(class_weight='balanced'), tuned_parameters, scoring = custom_scorer, cv=3)\n",
    "model.fit(x_tr, y_tr)\n",
    "\n",
    "print(model.best_estimator_)\n",
    "print(model.score(x_test, y_test))\n",
    "\n",
    "\n",
    "\n",
    "\n",
    "#Using RandomizedSearchCV and L1 regularization\n",
    "model = RandomizedSearchCV(LogisticRegression(penalty='l1',class_weight='balanced'), tuned_parameters,n_jobs=1, scoring = custom_scorer, cv=3)\n",
    "model.fit(x_tr, y_tr)\n",
    "\n",
    "print(model.best_estimator_)\n",
    "print(model.score(x_test, y_test))\n",
    "\n",
    "\n",
    "#Using RandomizedSearchCV and L1 regularization\n",
    "model = RandomizedSearchCV(LogisticRegression(penalty='l1',class_weight='balanced'), tuned_parameters,n_jobs=1, scoring = custom_scorer, cv=3)\n",
    "model.fit(x_tr, y_tr)\n",
    "\n",
    "print(model.best_estimator_)\n",
    "print(model.score(x_test, y_test))\n",
    "\n",
    "\n",
    "\n",
    "\n",
    "\n",
    "clf = LogisticRegression(C=1, penalty='l1');\n",
    "clf.fit(x_tr, y_tr);\n",
    "w = clf.coef_\n",
    "print(np.count_nonzero(w))\n",
    "\n",
    "print(clf.score(x_test, y_test))\n",
    "\n",
    "clf = LogisticRegression(C=1, penalty='l1');\n",
    "clf.fit(x_tr, y_tr);\n",
    "w = clf.coef_\n",
    "print(np.count_nonzero(w))\n",
    "\n",
    "print(clf.score(x_test, y_test))\n",
    "\n",
    "\n",
    "\n",
    "clf = LogisticRegression(C=0.5, penalty='l1');\n",
    "clf.fit(x_tr, y_tr);\n",
    "w = clf.coef_\n",
    "print(np.count_nonzero(w))\n",
    "print(clf.score(x_test, y_test))\n",
    "\n",
    "clf = LogisticRegression(C=0.5, penalty='l1');\n",
    "clf.fit(x_tr, y_tr);\n",
    "w = clf.coef_\n",
    "print(np.count_nonzero(w))\n",
    "print(clf.score(x_test, y_test))\n",
    "\n",
    "\n",
    "\n",
    "clf = LogisticRegression(C=0.1, penalty='l1');\n",
    "clf.fit(x_tr, y_tr);\n",
    "w = clf.coef_\n",
    "print(np.count_nonzero(w))\n",
    "print(clf.score(x_test, y_test))\n",
    "\n",
    "clf = LogisticRegression(C=0.1, penalty='l1');\n",
    "clf.fit(x_tr, y_tr);\n",
    "w = clf.coef_\n",
    "print(np.count_nonzero(w))\n",
    "print(clf.score(x_test, y_test))\n",
    "\n",
    "\n",
    "\n",
    "clf = LogisticRegression(C=0.01, penalty='l1');\n",
    "clf.fit(x_tr, y_tr);\n",
    "w = clf.coef_\n",
    "print(np.count_nonzero(w))\n",
    "print(clf.score(x_test, y_test))\n",
    "\n",
    "clf = LogisticRegression(C=0.01, penalty='l1');\n",
    "clf.fit(x_tr, y_tr);\n",
    "w = clf.coef_\n",
    "print(np.count_nonzero(w))\n",
    "print(clf.score(x_test, y_test))\n"
   ]
  },
  {
   "cell_type": "code",
   "execution_count": null,
   "metadata": {},
   "outputs": [],
   "source": [
    "print (x)"
   ]
  }
 ],
 "metadata": {
  "kernelspec": {
   "display_name": "Python 3",
   "language": "python",
   "name": "python3"
  },
  "language_info": {
   "codemirror_mode": {
    "name": "ipython",
    "version": 3
   },
   "file_extension": ".py",
   "mimetype": "text/x-python",
   "name": "python",
   "nbconvert_exporter": "python",
   "pygments_lexer": "ipython3",
   "version": "3.7.0"
  }
 },
 "nbformat": 4,
 "nbformat_minor": 2
}
