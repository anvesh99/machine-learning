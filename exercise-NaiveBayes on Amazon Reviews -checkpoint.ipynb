{
 "cells": [
  {
   "cell_type": "code",
   "execution_count": 1,
   "metadata": {},
   "outputs": [
    {
     "name": "stderr",
     "output_type": "stream",
     "text": [
      "C:\\Users\\Anvesh Pandey\\Anaconda3\\lib\\site-packages\\sklearn\\cross_validation.py:41: DeprecationWarning: This module was deprecated in version 0.18 in favor of the model_selection module into which all the refactored classes and functions are moved. Also note that the interface of the new CV iterators are different from that of this module. This module will be removed in 0.20.\n",
      "  \"This module will be removed in 0.20.\", DeprecationWarning)\n"
     ]
    },
    {
     "data": {
      "text/plain": [
       "positive    129548\n",
       "negative     20452\n",
       "Name: Score, dtype: int64"
      ]
     },
     "execution_count": 1,
     "metadata": {},
     "output_type": "execute_result"
    }
   ],
   "source": [
    "#database final.sqlite is created after cleaning the amazon food reviews data\n",
    "\n",
    "import warnings\n",
    "warnings.filterwarnings(\"ignore\")\n",
    "import numpy as np\n",
    "import pandas as pd\n",
    "import matplotlib.pyplot as plt\n",
    "from sklearn.cross_validation import train_test_split\n",
    "from sklearn.naive_bayes import MultinomialNB\n",
    "from sklearn.metrics import accuracy_score,f1_score\n",
    "from sklearn.cross_validation import cross_val_score\n",
    "from collections import Counter\n",
    "from sklearn.metrics import accuracy_score\n",
    "from sklearn.metrics import classification_report \n",
    "from sklearn import cross_validation\n",
    "import sqlite3\n",
    "from sklearn.decomposition import TruncatedSVD\n",
    "import seaborn as sns\n",
    "\n",
    "from sklearn.metrics import confusion_matrix\n",
    "from prettytable import PrettyTable\n",
    "    \n",
    "x = PrettyTable()\n",
    "\n",
    "con=sqlite3.connect(\"final.sqlite\")\n",
    "\n",
    "# time based sorting\n",
    "clean_reviews=pd.read_sql_query(\"\"\" Select * from Reviews Order By Time\"\"\" , con)\n",
    "clean_reviews=clean_reviews[:150000]\n",
    "cleaned_text=clean_reviews['CleanedText'].values\n",
    "score=clean_reviews['Score']\n",
    "score.value_counts()\n"
   ]
  },
  {
   "cell_type": "markdown",
   "metadata": {},
   "source": [
    "This is an unbalanced dataset"
   ]
  },
  {
   "cell_type": "code",
   "execution_count": 2,
   "metadata": {},
   "outputs": [],
   "source": [
    "from prettytable import PrettyTable\n",
    "    \n",
    "x = PrettyTable()\n",
    "x.field_names = [\"Vectorization\", \"Model\", \"alpha\", \"f1 score\", \"Accuracy\"]"
   ]
  },
  {
   "cell_type": "markdown",
   "metadata": {},
   "source": [
    "This is an unblanced dataset"
   ]
  },
  {
   "cell_type": "markdown",
   "metadata": {},
   "source": [
    "#Featurization using Bag of Words and model using kNN for classification of review"
   ]
  },
  {
   "cell_type": "code",
   "execution_count": 3,
   "metadata": {
    "scrolled": false
   },
   "outputs": [],
   "source": [
    "#Featurization using BoW\n",
    "\n",
    "from sklearn.feature_extraction.text import CountVectorizer\n",
    "count_vect=CountVectorizer()#max_features=300)\n",
    "x_tr,x_test,y_tr,y_test = cross_validation.train_test_split(cleaned_text,score,test_size=0.3,random_state=0)\n",
    "training_set_transformed=count_vect.fit_transform(x_tr)\n",
    "\n"
   ]
  },
  {
   "cell_type": "code",
   "execution_count": 4,
   "metadata": {},
   "outputs": [
    {
     "data": {
      "image/png": "[encoded data removed]",
      "text/plain": [
       "<Figure size 432x288 with 1 Axes>"
      ]
     },
     "metadata": {
      "needs_background": "light"
     },
     "output_type": "display_data"
    },
    {
     "name": "stdout",
     "output_type": "stream",
     "text": [
      "Optimal_alpha for BoW featurizatin and MultinomialNB Naive Bayes is  0.7\n",
      "Accuracy is  90.8\n"
     ]
    }
   ],
   "source": [
    "#NaiveBayes with 3 fold CV\n",
    "#x_tr,x_test,y_tr,y_test = cross_validation.train_test_split(final_counts,score,test_size=0.3,random_state=0)\n",
    "alpha_values=np.array([0.001,0.002,0.003,0.004,0.005,0.007,0.009,0.01,0.02,0.05,0.07,0.1,0.2,0.5,0.7,1.0,1.5,3])\n",
    "cv_scores=[]\n",
    "for a in alpha_values:\n",
    "    bnb=MultinomialNB(alpha=a)\n",
    "    scores=cross_val_score(bnb,training_set_transformed,y_tr,cv=3,scoring=\"f1_weighted\")\n",
    "    cv_scores.append(scores.mean())\n",
    "\n",
    "optimal_alpha=alpha_values[cv_scores.index(max(cv_scores))]\n",
    "plt.plot(alpha_values,cv_scores)\n",
    "plt.xlabel('alpha')\n",
    "plt.ylabel('f1_score')\n",
    "plt.title(\"f1_score vs alpha for BoW featurization\")\n",
    "for xy in zip(alpha_values, np.round(cv_scores,3)):\n",
    "    plt.annotate('(%s, %s)' % xy, xy=xy, textcoords='data')\n",
    "plt.show()\n",
    "bnb_optimal=MultinomialNB(alpha=optimal_alpha)\n",
    "bnb_optimal.fit(training_set_transformed,y_tr)\n",
    "x_test=count_vect.transform(x_test)\n",
    "pred=bnb_optimal.predict(x_test)\n",
    "acc=accuracy_score(y_test,pred)\n",
    "\n",
    "print (\"Optimal_alpha for BoW featurizatin and MultinomialNB Naive Bayes is \",optimal_alpha)\n",
    "np.round(acc*100,2)\n",
    "print (\"Accuracy is \",np.round(acc*100,2))\n"
   ]
  },
  {
   "cell_type": "code",
   "execution_count": 5,
   "metadata": {},
   "outputs": [
    {
     "data": {
      "text/plain": [
       "array([-14.50027784, -14.50027784, -14.50027784, ..., -14.50027784,\n",
       "       -14.50027784, -14.50027784])"
      ]
     },
     "execution_count": 5,
     "metadata": {},
     "output_type": "execute_result"
    }
   ],
   "source": [
    "bnb_optimal.coef_[0]"
   ]
  },
  {
   "cell_type": "code",
   "execution_count": 6,
   "metadata": {},
   "outputs": [],
   "source": [
    "feature_names=count_vect.get_feature_names()"
   ]
  },
  {
   "cell_type": "code",
   "execution_count": 7,
   "metadata": {},
   "outputs": [],
   "source": [
    "coefs_with_fns = sorted(zip(bnb_optimal.coef_[0], feature_names),reverse=True)\n"
   ]
  },
  {
   "cell_type": "code",
   "execution_count": 8,
   "metadata": {},
   "outputs": [
    {
     "data": {
      "text/plain": [
       "[(-4.4628586100337255, 'like'),\n",
       " (-4.505721713589901, 'tast'),\n",
       " (-4.647628579738383, 'good'),\n",
       " (-4.664291627498018, 'flavor'),\n",
       " (-4.707271738597591, 'great'),\n",
       " (-4.715087060716295, 'love'),\n",
       " (-4.733732535169869, 'tea'),\n",
       " (-4.742812818602035, 'use'),\n",
       " (-4.808212366007565, 'one'),\n",
       " (-4.881117213131823, 'product')]"
      ]
     },
     "execution_count": 8,
     "metadata": {},
     "output_type": "execute_result"
    }
   ],
   "source": [
    "coefs_with_fns[:10]"
   ]
  },
  {
   "cell_type": "raw",
   "metadata": {},
   "source": [
    "y_test=np.asarray(y_test)"
   ]
  },
  {
   "cell_type": "code",
   "execution_count": 9,
   "metadata": {},
   "outputs": [
    {
     "name": "stdout",
     "output_type": "stream",
     "text": [
      "f score is  0.907323333652497\n",
      "[[ 3959  2169]\n",
      " [ 1973 36899]]\n",
      "AxesSubplot(0.125,0.125;0.62x0.755)\n",
      "             precision    recall  f1-score   support\n",
      "\n",
      "   negative       0.67      0.65      0.66      6128\n",
      "   positive       0.94      0.95      0.95     38872\n",
      "\n",
      "avg / total       0.91      0.91      0.91     45000\n",
      "\n"
     ]
    },
    {
     "data": {
      "image/png": "[encoded data removed]",
      "text/plain": [
       "<Figure size 432x288 with 2 Axes>"
      ]
     },
     "metadata": {
      "needs_background": "light"
     },
     "output_type": "display_data"
    }
   ],
   "source": [
    "\n",
    "f1=f1_score(y_test,pred,average='weighted')\n",
    "print (\"f1 score is \", f1)\n",
    "c_matrix=confusion_matrix(y_test, pred)\n",
    "print (c_matrix)\n",
    "print (sns.heatmap(c_matrix,annot=True,fmt=\"d\"))\n",
    "print (classification_report(y_test, pred))"
   ]
  },
  {
   "cell_type": "markdown",
   "metadata": {},
   "source": [
    "f1 score of 90.73% is good "
   ]
  },
  {
   "cell_type": "code",
   "execution_count": 10,
   "metadata": {},
   "outputs": [],
   "source": [
    "x.add_row([\"BoW\",\"MultinomialNB\",optimal_alpha,f1,acc])"
   ]
  },
  {
   "cell_type": "code",
   "execution_count": 11,
   "metadata": {},
   "outputs": [],
   "source": [
    "#Tfidf\n",
    "from sklearn.feature_extraction.text import TfidfTransformer\n",
    "from sklearn.feature_extraction.text import TfidfVectorizer\n",
    "tf_idf_vect = TfidfVectorizer()\n",
    "x_tr,x_test,y_tr,y_test = cross_validation.train_test_split(cleaned_text,score,test_size=0.3,random_state=0)\n",
    "training_set_transformed=tf_idf_vect.fit_transform(x_tr)\n",
    "#final_counts= tf_idf_vect.fit_transform(clean_reviews['CleanedText'].values)\n",
    "#final_counts=final_counts.toarray()"
   ]
  },
  {
   "cell_type": "code",
   "execution_count": 12,
   "metadata": {},
   "outputs": [
    {
     "data": {
      "image/png": "[encoded data removed]",
      "text/plain": [
       "<Figure size 432x288 with 1 Axes>"
      ]
     },
     "metadata": {
      "needs_background": "light"
     },
     "output_type": "display_data"
    },
    {
     "name": "stdout",
     "output_type": "stream",
     "text": [
      "Optimal_alpha for tfidf featurizatin and MultinomialNB Naive Bayes is  0.02\n",
      "Accuracy is  88.74\n"
     ]
    }
   ],
   "source": [
    "#NaiveBayes with 3 fold CV\n",
    "#x_tr,x_test,y_tr,y_test = cross_validation.train_test_split(final_counts,score,test_size=0.3,random_state=0)\n",
    "alpha_values=np.array([0.001,0.002,0.003,0.004,0.005,0.007,0.009,0.01,0.02,0.05,0.07,0.1,0.2,0.5,0.7,1.0,1.5,3])\n",
    "cv_scores=[]\n",
    "for a in alpha_values:\n",
    "    bnb=MultinomialNB(alpha=a)\n",
    "    scores=cross_val_score(bnb,training_set_transformed,y_tr,cv=3,scoring=\"f1_weighted\")                       \n",
    "    cv_scores.append(scores.mean())\n",
    "\n",
    "optimal_alpha=alpha_values[cv_scores.index(max(cv_scores))]\n",
    "plt.plot(alpha_values,cv_scores)\n",
    "plt.xlabel('alpha')\n",
    "plt.ylabel('f1_score')\n",
    "plt.title(\"f1_score vs alpha for BoW featurization\")\n",
    "for xy in zip(alpha_values, np.round(cv_scores,3)):\n",
    "    plt.annotate('(%s, %s)' % xy, xy=xy, textcoords='data')\n",
    "plt.show()\n",
    "bnb_optimal=MultinomialNB(alpha=optimal_alpha)\n",
    "bnb_optimal.fit(training_set_transformed,y_tr)\n",
    "x_test=tf_idf_vect.transform(x_test)\n",
    "pred=bnb_optimal.predict(x_test)\n",
    "acc=accuracy_score(y_test,pred)\n",
    "\n",
    "print (\"Optimal_alpha for tfidf featurizatin and MultinomialNB Naive Bayes is \",optimal_alpha)\n",
    "np.round(acc*100,2)\n",
    "print (\"Accuracy is \",np.round(acc*100,2))\n"
   ]
  },
  {
   "cell_type": "code",
   "execution_count": 13,
   "metadata": {},
   "outputs": [
    {
     "data": {
      "text/plain": [
       "[(-5.048788198831037, 'great'),\n",
       " (-5.072261165949444, 'tea'),\n",
       " (-5.082480656788409, 'love'),\n",
       " (-5.128982019090316, 'tast'),\n",
       " (-5.132268172217945, 'good'),\n",
       " (-5.160796589341561, 'like'),\n",
       " (-5.2112246086931835, 'flavor'),\n",
       " (-5.249815008910997, 'coffe'),\n",
       " (-5.297395653961967, 'product'),\n",
       " (-5.330101086878048, 'use')]"
      ]
     },
     "execution_count": 13,
     "metadata": {},
     "output_type": "execute_result"
    }
   ],
   "source": [
    "bnb_optimal.coef_\n",
    "features=tf_idf_vect.get_feature_names()\n",
    "coefs_with_fns = sorted(zip(bnb_optimal.coef_[0], feature_names),reverse=True)\n",
    "coefs_with_fns[:10]"
   ]
  },
  {
   "cell_type": "markdown",
   "metadata": {},
   "source": [
    "f1 score is used to determine the hyperparameter alpha - 1.4"
   ]
  },
  {
   "cell_type": "code",
   "execution_count": 14,
   "metadata": {},
   "outputs": [
    {
     "name": "stdout",
     "output_type": "stream",
     "text": [
      "f score is  0.8573081551894292\n",
      "[[ 1322  4806]\n",
      " [  262 38610]]\n",
      "AxesSubplot(0.125,0.125;0.62x0.755)\n",
      "             precision    recall  f1-score   support\n",
      "\n",
      "   negative       0.83      0.22      0.34      6128\n",
      "   positive       0.89      0.99      0.94     38872\n",
      "\n",
      "avg / total       0.88      0.89      0.86     45000\n",
      "\n"
     ]
    },
    {
     "data": {
      "image/png": "[encoded data removed]",
      "text/plain": [
       "<Figure size 432x288 with 2 Axes>"
      ]
     },
     "metadata": {
      "needs_background": "light"
     },
     "output_type": "display_data"
    }
   ],
   "source": [
    "f1=f1_score(y_test,pred,average='weighted')\n",
    "print (\"f score is \", f1)\n",
    "c_matrix=confusion_matrix(y_test, pred)\n",
    "print (c_matrix)\n",
    "print (sns.heatmap(c_matrix,annot=True,fmt=\"d\"))\n",
    "print (classification_report(y_test, pred))"
   ]
  },
  {
   "cell_type": "markdown",
   "metadata": {},
   "source": [
    "f1 score is good 85.73%, infusing the confidence on the model "
   ]
  },
  {
   "cell_type": "code",
   "execution_count": 15,
   "metadata": {},
   "outputs": [],
   "source": [
    "x.add_row([\"tfIdf\",\"MultinomialNB \",optimal_alpha,f1,acc])"
   ]
  },
  {
   "cell_type": "code",
   "execution_count": 16,
   "metadata": {},
   "outputs": [
    {
     "name": "stdout",
     "output_type": "stream",
     "text": [
      "+---------------+----------------+-------+--------------------+--------------------+\n",
      "| Vectorization |     Model      | alpha |      f1 score      |      Accuracy      |\n",
      "+---------------+----------------+-------+--------------------+--------------------+\n",
      "|      BoW      | MultinomialNB  |  0.7  | 0.907323333652497  | 0.9079555555555555 |\n",
      "|     tfIdf     | MultinomialNB  |  0.02 | 0.8573081551894292 | 0.8873777777777778 |\n",
      "+---------------+----------------+-------+--------------------+--------------------+\n"
     ]
    }
   ],
   "source": [
    "print (x)"
   ]
  },
  {
   "cell_type": "markdown",
   "metadata": {},
   "source": [
    "Conclusion : as is evident from the table, the hyperparameter varies with the vectorization of the reviews. Highest f1 score and accuracy is attained with tfIdf and Naive Bayes. This is the best predicted model for 100k reviews. \n",
    "       As suggested in the last assignment, I tried figuring out the data leak in the model but could not get it. The top 10 features using both the featurization technique is almost the same. This shows that the two featurization algos are not totally out of sync."
   ]
  },
  {
   "cell_type": "code",
   "execution_count": null,
   "metadata": {},
   "outputs": [],
   "source": []
  }
 ],
 "metadata": {
  "kernelspec": {
   "display_name": "Python 3",
   "language": "python",
   "name": "python3"
  },
  "language_info": {
   "codemirror_mode": {
    "name": "ipython",
    "version": 3
   },
   "file_extension": ".py",
   "mimetype": "text/x-python",
   "name": "python",
   "nbconvert_exporter": "python",
   "pygments_lexer": "ipython3",
   "version": "3.7.0"
  }
 },
 "nbformat": 4,
 "nbformat_minor": 2
}
